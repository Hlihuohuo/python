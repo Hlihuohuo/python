{
 "cells": [
  {
   "cell_type": "markdown",
   "metadata": {},
   "source": [
    "# 选择\n",
    "## 布尔类型、数值和表达式\n",
    "![](../Photo/33.png)\n",
    "- 注意：比较运算符的相等是两个等到，一个等到代表赋值\n",
    "- 在Python中可以用整型0来代表False，其他数字来代表True\n",
    "- 后面还会讲到 is 在判断语句中的用发"
   ]
  },
  {
   "cell_type": "code",
   "execution_count": 4,
   "metadata": {},
   "outputs": [
    {
     "data": {
      "text/plain": [
       "True"
      ]
     },
     "execution_count": 4,
     "metadata": {},
     "output_type": "execute_result"
    }
   ],
   "source": [
    "1 == True"
   ]
  },
  {
   "cell_type": "code",
   "execution_count": 7,
   "metadata": {},
   "outputs": [
    {
     "data": {
      "text/plain": [
       "True"
      ]
     },
     "execution_count": 7,
     "metadata": {},
     "output_type": "execute_result"
    }
   ],
   "source": [
    "10 >= 10"
   ]
  },
  {
   "cell_type": "code",
   "execution_count": 8,
   "metadata": {},
   "outputs": [
    {
     "data": {
      "text/plain": [
       "False"
      ]
     },
     "execution_count": 8,
     "metadata": {},
     "output_type": "execute_result"
    }
   ],
   "source": [
    "10 > 10"
   ]
  },
  {
   "cell_type": "markdown",
   "metadata": {},
   "source": [
    "## 字符串的比较使用ASCII值"
   ]
  },
  {
   "cell_type": "code",
   "execution_count": 9,
   "metadata": {},
   "outputs": [
    {
     "data": {
      "text/plain": [
       "False"
      ]
     },
     "execution_count": 9,
     "metadata": {},
     "output_type": "execute_result"
    }
   ],
   "source": [
    "'a' > 'b'"
   ]
  },
  {
   "cell_type": "code",
   "execution_count": 10,
   "metadata": {},
   "outputs": [
    {
     "ename": "TypeError",
     "evalue": "'>' not supported between instances of 'str' and 'bool'",
     "output_type": "error",
     "traceback": [
      "\u001b[1;31m---------------------------------------------------------------------------\u001b[0m",
      "\u001b[1;31mTypeError\u001b[0m                                 Traceback (most recent call last)",
      "\u001b[1;32m<ipython-input-10-63a259c6feac>\u001b[0m in \u001b[0;36m<module>\u001b[1;34m()\u001b[0m\n\u001b[1;32m----> 1\u001b[1;33m \u001b[1;34m'a'\u001b[0m \u001b[1;33m>\u001b[0m \u001b[1;32mTrue\u001b[0m\u001b[1;33m\u001b[0m\u001b[0m\n\u001b[0m",
      "\u001b[1;31mTypeError\u001b[0m: '>' not supported between instances of 'str' and 'bool'"
     ]
    }
   ],
   "source": [
    "'a' > True #类型必须匹配"
   ]
  },
  {
   "cell_type": "code",
   "execution_count": 11,
   "metadata": {},
   "outputs": [
    {
     "data": {
      "text/plain": [
       "True"
      ]
     },
     "execution_count": 11,
     "metadata": {},
     "output_type": "execute_result"
    }
   ],
   "source": [
    "0 < 10 < 100"
   ]
  },
  {
   "cell_type": "code",
   "execution_count": 12,
   "metadata": {
    "scrolled": true
   },
   "outputs": [
    {
     "data": {
      "text/plain": [
       "False"
      ]
     },
     "execution_count": 12,
     "metadata": {},
     "output_type": "execute_result"
    }
   ],
   "source": [
    "0< 10 > 100"
   ]
  },
  {
   "cell_type": "code",
   "execution_count": 17,
   "metadata": {},
   "outputs": [
    {
     "name": "stdout",
     "output_type": "stream",
     "text": [
      "Enter an grade：100\n",
      "A\n"
     ]
    }
   ],
   "source": [
    "#写一个成绩的程序 90--A  80-90----B.........\n",
    "grade = eval(input('Enter a grade：'))\n",
    "if grade > 90:\n",
    "    print('A')\n",
    "elif 80 < grade <= 90:\n",
    "    print('B')\n",
    "elif 70 < grade <= 80:\n",
    "    print('C')\n",
    "elif 60 < grade <= 70:\n",
    "    print('D')\n",
    "elif 60 < grade <= 50:\n",
    "    print('E')"
   ]
  },
  {
   "cell_type": "markdown",
   "metadata": {},
   "source": [
    "## Markdown \n",
    "- https://github.com/younghz/Markdown"
   ]
  },
  {
   "cell_type": "markdown",
   "metadata": {},
   "source": [
    "## EP:\n",
    "- <img src=\"../Photo/34.png\"></img>\n",
    "- 输入一个数字，判断其实奇数还是偶数"
   ]
  },
  {
   "cell_type": "code",
   "execution_count": null,
   "metadata": {},
   "outputs": [],
   "source": [
    "i = 1\n",
    "j = 0\n",
    "b1 = True\n",
    "b2 = False"
   ]
  },
  {
   "cell_type": "markdown",
   "metadata": {},
   "source": [
    "# 产生随机数字\n",
    "- 函数random.randint(a,b) 可以用来产生一个a和b之间且包括a和b的随机整数"
   ]
  },
  {
   "cell_type": "code",
   "execution_count": 47,
   "metadata": {},
   "outputs": [
    {
     "name": "stdout",
     "output_type": "stream",
     "text": [
      "Enter a number：3\n",
      "The number is so small!\n",
      "Enter a number：4\n",
      "yeah! I am satisfied with the number.\n"
     ]
    }
   ],
   "source": [
    "#产生一个随机数，你去输入。如果你输入的数大于随机数，就告诉你输入这个数太大了..................总之，一直输入，直到输入到满意为止\n",
    "import random\n",
    "random_num = random.randint(1,6)\n",
    "while True:\n",
    "    input_num = eval(input('Enter a number：'))\n",
    "    if input_num > random_num:\n",
    "        print('The number is so big!')\n",
    "    elif input_num < random_num:\n",
    "        print('The number is so small!')\n",
    "    elif input_num == random_num:\n",
    "        print('yeah! I am satisfied with the number.')\n",
    "        break\n"
   ]
  },
  {
   "cell_type": "markdown",
   "metadata": {},
   "source": [
    "##  其他random方法\n",
    "- random.random 返回0.0到1.0之间前闭后开区间的随机浮点\n",
    "- random.randrange(a,b) 前闭后开"
   ]
  },
  {
   "cell_type": "code",
   "execution_count": 24,
   "metadata": {},
   "outputs": [
    {
     "data": {
      "text/plain": [
       "0.7852369749150576"
      ]
     },
     "execution_count": 24,
     "metadata": {},
     "output_type": "execute_result"
    }
   ],
   "source": [
    "import random\n",
    "random.random( )"
   ]
  },
  {
   "cell_type": "code",
   "execution_count": 28,
   "metadata": {},
   "outputs": [
    {
     "data": {
      "text/plain": [
       "8"
      ]
     },
     "execution_count": 28,
     "metadata": {},
     "output_type": "execute_result"
    }
   ],
   "source": [
    "import random\n",
    "random.randrange(0,10,2)"
   ]
  },
  {
   "cell_type": "markdown",
   "metadata": {},
   "source": [
    "## EP：\n",
    "- 产生两个随机整数number1和number2，然后显示给用户，使用户输入数字的和，并判定其是否正确\n",
    "- 进阶:写一个随机序号点名程序"
   ]
  },
  {
   "cell_type": "code",
   "execution_count": 57,
   "metadata": {},
   "outputs": [
    {
     "name": "stdout",
     "output_type": "stream",
     "text": [
      "输出第一个随机数:3\n",
      "输出第二个随机数:5\n",
      "输入num1与num2的和：8\n",
      "孩子，你是最棒的！\n"
     ]
    }
   ],
   "source": [
    "import random\n",
    "num1 = random.randint(1,5)\n",
    "num2 = random.randint(5,10)\n",
    "sum1 = num1 + num2\n",
    "print('输出第一个随机数:'+str(num1))\n",
    "print('输出第二个随机数:'+str(num2))\n",
    "while True:\n",
    "    input_sum = eval(input('输入num1与num2的和：'))\n",
    "    if input_sum == sum1:\n",
    "        print('孩子，你是最棒的！')\n",
    "        break\n",
    "    elif input_num != sum1:\n",
    "        print('每天起床第一句，先给自己打个气！')\n"
   ]
  },
  {
   "cell_type": "markdown",
   "metadata": {},
   "source": [
    "## if语句\n",
    "- 如果条件正确就执行一个单向if语句，亦即当条件为真的时候才执行if内部的语句\n",
    "- Python有很多选择语句:\n",
    "> - 单向if \n",
    "  - 双向if-else\n",
    "  - 嵌套if\n",
    "  - 多向if-elif-else\n",
    "  \n",
    "- 注意：当语句含有子语句的时候，那么一定至少要有一个缩进，也就是说如果有儿子存在，那么一定要缩进\n",
    "- 切记不可tab键和space混用，单用tab 或者 space\n",
    "- 当你输出的结果是无论if是否为真时都需要显示时，语句应该与if对齐"
   ]
  },
  {
   "cell_type": "code",
   "execution_count": null,
   "metadata": {},
   "outputs": [],
   "source": [
    "if condition:\n",
    "    doit\n",
    "else:\n",
    "    doit\n",
    "    "
   ]
  },
  {
   "cell_type": "code",
   "execution_count": null,
   "metadata": {},
   "outputs": [],
   "source": [
    "if True:\n",
    "    \n",
    "    if True:\n",
    "        \n",
    "        if True:\n",
    "            \n",
    "        else:\n",
    "\n",
    "    else:\n",
    "        \n",
    "else:\n",
    "    "
   ]
  },
  {
   "cell_type": "code",
   "execution_count": 2,
   "metadata": {},
   "outputs": [
    {
     "name": "stdout",
     "output_type": "stream",
     "text": [
      "报上芳龄：25\n",
      "长的是否对得起国家：能看\n",
      "吃饱穿暖可以否: 否\n",
      "我养他吗，不见\n"
     ]
    }
   ],
   "source": [
    "age = eval(input('报上芳龄：'))\n",
    "if 18 <age <=30:\n",
    "    face = input('长的是否对得起国家：')\n",
    "    if face == '能看':\n",
    "            salary = input('吃饱穿暖可以否: ')\n",
    "            if salary == '可以的':\n",
    "                job = input('会唱歌否： ')\n",
    "                if job =='超好听':\n",
    "                    print('啊，会唱歌一定要见！')    \n",
    "                else:\n",
    "                    print('不会唱歌，不见！')\n",
    "            else:\n",
    "                print('我养他吗，不见')\n",
    "    else:\n",
    "        print('哇,这么丑的吗，不见')\n",
    "elif age > 30:\n",
    "    print('我不当后妈，不见')\n",
    "else:\n",
    "    print('吃嫩草，不合适吧')\n",
    "    "
   ]
  },
  {
   "cell_type": "markdown",
   "metadata": {},
   "source": [
    "## EP：\n",
    "- 用户输入一个数字，判断其实奇数还是偶数\n",
    "- 进阶：可以查看下4.5实例研究猜生日"
   ]
  },
  {
   "cell_type": "markdown",
   "metadata": {},
   "source": [
    "## 双向if-else 语句\n",
    "- 如果条件为真，那么走if内部语句，否则走else内部语句"
   ]
  },
  {
   "cell_type": "markdown",
   "metadata": {},
   "source": [
    "## EP：\n",
    "- 产生两个随机整数number1和number2，然后显示给用户，使用户输入数字，并判定其是否正确,如果正确打印“you‘re correct”，否则打印正确错误"
   ]
  },
  {
   "cell_type": "markdown",
   "metadata": {},
   "source": [
    "## 嵌套if 和多向if-elif-else\n",
    "![](../Photo/35.png)"
   ]
  },
  {
   "cell_type": "markdown",
   "metadata": {},
   "source": [
    "## EP：\n",
    "- 提示用户输入一个年份，然后显示表示这一年的动物\n",
    "![](../Photo/36.png)\n",
    "- 计算身体质量指数的程序\n",
    "- BMI = 以千克为单位的体重除以以米为单位的身高的平方\n",
    "![](../Photo/37.png)"
   ]
  },
  {
   "cell_type": "code",
   "execution_count": 16,
   "metadata": {},
   "outputs": [
    {
     "name": "stdout",
     "output_type": "stream",
     "text": [
      "请输入体重：50\n",
      "请输入身高：1.5\n",
      "标准\n"
     ]
    }
   ],
   "source": [
    "weight  = eval(input('请输入体重：'))\n",
    "height  = eval(input('请输入身高：'))\n",
    "BMI = weight / (height ** 2)\n",
    "if BMI < 18.5:\n",
    "    print('超轻')\n",
    "elif 18.5 <= BMI <25.0:\n",
    "    print('标准')\n",
    "elif 25.0 <= BMI <30.0:\n",
    "    print('超重')\n",
    "elif 30.0 <= BMI :\n",
    "    print('痴肥')"
   ]
  },
  {
   "cell_type": "code",
   "execution_count": 5,
   "metadata": {},
   "outputs": [
    {
     "name": "stdout",
     "output_type": "stream",
     "text": [
      "请输入一个年份：2011\n",
      "兔兔\n"
     ]
    }
   ],
   "source": [
    "year = eval(input('请输入一个年份：'))\n",
    "if year % 12 == 0:\n",
    "    print('猴子')\n",
    "elif year %12 == 1:\n",
    "    print('鸡')\n",
    "elif year %12 == 2:\n",
    "    print('狗')\n",
    "elif year %12 == 3:\n",
    "    print('猪猪')\n",
    "elif year %12 == 4:\n",
    "    print('鼠鼠')\n",
    "elif year %12 == 5:\n",
    "    print('牛牛')\n",
    "elif year %12 == 6:\n",
    "    print('虎')\n",
    "elif year %12 == 7:\n",
    "    print('兔兔')\n",
    "elif year %12 == 8:\n",
    "    print('龙')\n",
    "elif year %12 == 9:\n",
    "    print('蛇')\n",
    "elif year %12 == 10:\n",
    "    print('马')\n",
    "elif year %12 == 11:\n",
    "    print('羊')"
   ]
  },
  {
   "cell_type": "markdown",
   "metadata": {},
   "source": [
    "## 逻辑运算符\n",
    "![](../Photo/38.png)"
   ]
  },
  {
   "cell_type": "code",
   "execution_count": null,
   "metadata": {},
   "outputs": [],
   "source": [
    "res = input('请输入一个姓名：')\n",
    "if '长得高'== res and '长得帅'== res:\n",
    "    pass"
   ]
  },
  {
   "cell_type": "code",
   "execution_count": 1,
   "metadata": {},
   "outputs": [
    {
     "data": {
      "text/plain": [
       "True"
      ]
     },
     "execution_count": 1,
     "metadata": {},
     "output_type": "execute_result"
    }
   ],
   "source": [
    "True and True"
   ]
  },
  {
   "cell_type": "code",
   "execution_count": 2,
   "metadata": {},
   "outputs": [
    {
     "data": {
      "text/plain": [
       "True"
      ]
     },
     "execution_count": 2,
     "metadata": {},
     "output_type": "execute_result"
    }
   ],
   "source": [
    "True or True"
   ]
  },
  {
   "cell_type": "code",
   "execution_count": 3,
   "metadata": {},
   "outputs": [
    {
     "data": {
      "text/plain": [
       "False"
      ]
     },
     "execution_count": 3,
     "metadata": {},
     "output_type": "execute_result"
    }
   ],
   "source": [
    "a = [1,2,3,4]\n",
    "1 not in a"
   ]
  },
  {
   "cell_type": "markdown",
   "metadata": {},
   "source": [
    "![](../Photo/39.png)\n",
    "![](../Photo/40.png)"
   ]
  },
  {
   "cell_type": "markdown",
   "metadata": {},
   "source": [
    "## EP：\n",
    "- 判定闰年：一个年份如果能被4整除但不能被100整除，或者能被400整除，那么这个年份就是闰年\n",
    "- 提示用户输入一个年份，并返回是否是闰年\n",
    "- 提示用户输入一个数字，判断其是否为水仙花数"
   ]
  },
  {
   "cell_type": "code",
   "execution_count": 4,
   "metadata": {},
   "outputs": [
    {
     "name": "stdout",
     "output_type": "stream",
     "text": [
      "请输入一个年份：2014\n",
      "今年不是闰年\n"
     ]
    }
   ],
   "source": [
    "year =eval(input('请输入一个年份：'))\n",
    "y1 = year %  4\n",
    "y2 = year % 100\n",
    "y3 = year % 400\n",
    "if (y1 == 0) and (y2 != 0) or (y3 == 0):\n",
    "    print('今年是闰年')\n",
    "else:\n",
    "    print('今年不是闰年')\n"
   ]
  },
  {
   "cell_type": "code",
   "execution_count": 8,
   "metadata": {},
   "outputs": [
    {
     "name": "stdout",
     "output_type": "stream",
     "text": [
      "请输入一个number：153\n",
      "这个数是水仙花数\n"
     ]
    }
   ],
   "source": [
    "num =eval(input('请输入一个number：'))\n",
    "bai = num // 100\n",
    "shi = num // 10 % 10\n",
    "ge = num % 10\n",
    "if(bai ** 3 + shi ** 3 + ge ** 3 == num):\n",
    "    print('这个数是水仙花数')\n",
    "else:\n",
    "    print('这个数并不是水仙花数')"
   ]
  },
  {
   "cell_type": "markdown",
   "metadata": {},
   "source": [
    "## 实例研究：彩票\n",
    "![](../Photo/41.png)"
   ]
  },
  {
   "cell_type": "code",
   "execution_count": 11,
   "metadata": {},
   "outputs": [
    {
     "data": {
      "text/plain": [
       "'a'"
      ]
     },
     "execution_count": 11,
     "metadata": {},
     "output_type": "execute_result"
    }
   ],
   "source": [
    "a='abcd'\n",
    "a[0]"
   ]
  },
  {
   "cell_type": "code",
   "execution_count": 19,
   "metadata": {},
   "outputs": [
    {
     "name": "stdout",
     "output_type": "stream",
     "text": [
      "中奖的那两位数是：68\n",
      "随机输入一个两位数：68\n",
      "哇，一等奖！\n"
     ]
    }
   ],
   "source": [
    "import random\n",
    "num1 = random.randint(0,9)\n",
    "num2 = random.randint(0,9)\n",
    "num = str(num1) + str(num2)\n",
    "print('中奖的那两位数是：'+ str(num))\n",
    "input_num = input('随机输入一个两位数：')\n",
    "if input_num==num:\n",
    "    print('哇，一等奖！')\n",
    "elif (input_num[0] == num[1]) and (input_num[1] == num[0]):\n",
    "    print('二等奖哦')\n",
    "elif (input_num[0] == num[0])or(input_num[0] == num[1])or(input_num[1] == num[0])or(input_num[1] == num[1]):\n",
    "    print('三等奖也很好啊')\n",
    "else:\n",
    "    print('呵呵呵，中奖绝缘体')"
   ]
  },
  {
   "cell_type": "markdown",
   "metadata": {},
   "source": [
    "# Homework\n",
    "- 1\n",
    "![](../Photo/42.png)"
   ]
  },
  {
   "cell_type": "code",
   "execution_count": 11,
   "metadata": {},
   "outputs": [
    {
     "name": "stdout",
     "output_type": "stream",
     "text": [
      "Enter a,b,c：1,2.0,1\n",
      "The root is -1.0\n"
     ]
    }
   ],
   "source": [
    "import math\n",
    "a,b,c =eval(input('Enter a,b,c：'))\n",
    "delt = b ** 2 -4 * a * c\n",
    "r1 = (-b + math.sqrt (b ** 2 - 4*a*c)) / 2*a\n",
    "r2 = (-b - math.sqrt (b ** 2 - 4*a*c)) / 2*a\n",
    "if (delt > 0):\n",
    "      print('The roots are ' + str(r1)+' and '+ str(r2))\n",
    "elif (delt == 0):\n",
    "      print('The root is ' + str(r2))\n",
    "else:\n",
    "      print('The equation has no real roots')\n",
    "      "
   ]
  },
  {
   "cell_type": "markdown",
   "metadata": {},
   "source": [
    "- 2\n",
    "![](../Photo/43.png)"
   ]
  },
  {
   "cell_type": "code",
   "execution_count": 1,
   "metadata": {},
   "outputs": [
    {
     "name": "stdout",
     "output_type": "stream",
     "text": [
      "113\n",
      "输入num1与num2的和：113\n",
      "you are right！\n"
     ]
    }
   ],
   "source": [
    "import random\n",
    "num1 = random.randint(0,100)\n",
    "num2 = random.randint(0,100)\n",
    "sum1 = num1 + num2\n",
    "print(sum1)\n",
    "input_sum = eval(input('输入num1与num2的和：'))\n",
    "if input_sum == sum1:\n",
    "    print('you are right！')\n",
    "else:\n",
    "    print('you are wrong!')"
   ]
  },
  {
   "cell_type": "markdown",
   "metadata": {},
   "source": [
    "- 3\n",
    "![](../Photo/44.png)"
   ]
  },
  {
   "cell_type": "code",
   "execution_count": 2,
   "metadata": {},
   "outputs": [
    {
     "name": "stdout",
     "output_type": "stream",
     "text": [
      "输入今天是一周内的哪一天：0\n",
      "输入今天之后到未来某天的天数：2\n",
      "2天后是星期二\n"
     ]
    }
   ],
   "source": [
    "today = eval(input('输入今天是一周内的哪一天：'))\n",
    "number = eval(input('输入今天之后到未来某天的天数：'))\n",
    "day = (today + number) % 7\n",
    "if day == 0:\n",
    "    print(str(number)+'天后是星期日')\n",
    "elif day == 1:\n",
    "    print(str(number)+'天后是星期一')\n",
    "elif day == 2:\n",
    "    print(str(number)+'天后是星期二')\n",
    "elif day == 3:\n",
    "    print(str(number)+'天后是星期三')\n",
    "elif day == 4:\n",
    "    print(str(number)+'天后是星期四')\n",
    "elif day == 5:\n",
    "    print(str(number)+'天后是星期五')\n",
    "elif day == 6:\n",
    "    print(str(number)+'天后是星期六')"
   ]
  },
  {
   "cell_type": "markdown",
   "metadata": {},
   "source": [
    "- 4\n",
    "![](../Photo/45.png)"
   ]
  },
  {
   "cell_type": "code",
   "execution_count": 4,
   "metadata": {},
   "outputs": [
    {
     "name": "stdout",
     "output_type": "stream",
     "text": [
      "输入a,b,c :5,8,2\n",
      "[2, 5, 8]\n"
     ]
    }
   ],
   "source": [
    "a,b,c = eval(input('输入a,b,c :'))\n",
    "q = [a,b,c]\n",
    "q.sort()\n",
    "print (q)"
   ]
  },
  {
   "cell_type": "markdown",
   "metadata": {},
   "source": [
    "- 5\n",
    "![](../Photo/46.png)"
   ]
  },
  {
   "cell_type": "code",
   "execution_count": 5,
   "metadata": {},
   "outputs": [
    {
     "name": "stdout",
     "output_type": "stream",
     "text": [
      "Enter weight and price  for package1: 50,24.59\n",
      "Enter weight and price for package2: 25,11.99\n",
      "package 2 has the better price\n"
     ]
    }
   ],
   "source": [
    "weight1,price1 = eval(input('Enter weight and price  for package1: '))\n",
    "weight2,price2 = eval(input('Enter weight and price for package2: '))\n",
    "if (weight1 / price1) > (weight2 / price2):\n",
    "    print('package 1 has the better price')\n",
    "elif (weight1 / price1) < (weight2 / price2):\n",
    "    print('package 2 has the better price')\n",
    "elif (weight1 / price1) == (weight2 / price2):\n",
    "    print('both ok')"
   ]
  },
  {
   "cell_type": "markdown",
   "metadata": {},
   "source": [
    "- 6\n",
    "![](../Photo/47.png)"
   ]
  },
  {
   "cell_type": "code",
   "execution_count": 8,
   "metadata": {},
   "outputs": [
    {
     "name": "stdout",
     "output_type": "stream",
     "text": [
      "输入某月，某年: 2,2000\n",
      "2000 年 2 月有28天\n"
     ]
    }
   ],
   "source": [
    "month,year = eval(input('输入某月，某年: '))\n",
    "if month == 2 and  ((year % 4 ==0 and year % 100 !=0) or (year % 400 == 0)):\n",
    "    print(year,'年',month,'月有28天')\n",
    "elif (month == 1,3,5,7,8,10,12) :\n",
    "    print(year,'年',month,'月有31天')\n",
    "elif (month == 4,6,9,11) :\n",
    "    print(year,'年',month,'月有30天')"
   ]
  },
  {
   "cell_type": "markdown",
   "metadata": {},
   "source": [
    "- 7\n",
    "![](../Photo/48.png)"
   ]
  },
  {
   "cell_type": "code",
   "execution_count": 10,
   "metadata": {},
   "outputs": [
    {
     "name": "stdout",
     "output_type": "stream",
     "text": [
      "正确的值为：1\n",
      "输入0或1:1\n",
      "正确\n"
     ]
    }
   ],
   "source": [
    "import random\n",
    "a = random.randint(0,1)\n",
    "print('正确的值为：'+ str(a))\n",
    "num = eval(input('输入0或1:'))\n",
    "if num == a:\n",
    "    print('正确')\n",
    "else :\n",
    "    print('错误')"
   ]
  },
  {
   "cell_type": "markdown",
   "metadata": {},
   "source": [
    "- 8\n",
    "![](../Photo/49.png)"
   ]
  },
  {
   "cell_type": "code",
   "execution_count": 12,
   "metadata": {},
   "outputs": [
    {
     "name": "stdout",
     "output_type": "stream",
     "text": [
      "0\n",
      "1\n",
      "You are 剪刀.You won.\n"
     ]
    }
   ],
   "source": [
    "import random\n",
    "a = random.randint(0,2)\n",
    "print(a)\n",
    "num = eval(input(''))\n",
    "if a == num:\n",
    "    print('平局')\n",
    "elif ((a-num)==1) or ((a-num)==-2):\n",
    "    if a==0:\n",
    "        a = '剪刀'\n",
    "    elif a==1:\n",
    "        a = '石头'\n",
    "    elif a==2:\n",
    "        a = '布'\n",
    "    print('You are '+str(a)+' too.It is a draw.')\n",
    "else:\n",
    "    if a==0:\n",
    "        a = '剪刀'\n",
    "    elif a==1:\n",
    "        a = '石头'\n",
    "    elif a==2:\n",
    "        a = '布'\n",
    "    print('You are '+str(a)+'.You won.') "
   ]
  },
  {
   "cell_type": "markdown",
   "metadata": {},
   "source": [
    "- 9\n",
    "![](../Photo/50.png)"
   ]
  },
  {
   "cell_type": "code",
   "execution_count": null,
   "metadata": {},
   "outputs": [],
   "source": [
    "year = eval(input('输入年份：'))\n",
    "months = eval(input('输入月份：'))\n",
    "days = eval(input('输入当前月份的某天：'))\n",
    "h = {0:'星期六',1:'星期日', 2: '星期一', 3: '星期二', 4: '星期三', 5: '星期四', 6: '星期五'}\n",
    ".......................#不会写啦啦啦\n"
   ]
  },
  {
   "cell_type": "markdown",
   "metadata": {},
   "source": [
    "- 10\n",
    "![](../Photo/51.png)"
   ]
  },
  {
   "cell_type": "code",
   "execution_count": 15,
   "metadata": {},
   "outputs": [
    {
     "name": "stdout",
     "output_type": "stream",
     "text": [
      "['2'] ['黑桃']\n"
     ]
    }
   ],
   "source": [
    "import random\n",
    "cardsize = ['Ace','2','3','4','5','6','7','8','9','10','Jack','Queen','King']\n",
    "random_num1 = random.sample(cardsize,1)\n",
    "color = ['梅花','红桃','方块','黑桃']\n",
    "random_num2 = random.sample(color,1)\n",
    "print(random_num1,random_num2)"
   ]
  },
  {
   "cell_type": "markdown",
   "metadata": {},
   "source": [
    "- 11\n",
    "![](../Photo/52.png)"
   ]
  },
  {
   "cell_type": "code",
   "execution_count": 17,
   "metadata": {},
   "outputs": [
    {
     "name": "stdout",
     "output_type": "stream",
     "text": [
      "输入一个三位数：123\n",
      "123 is not a palindrome\n"
     ]
    }
   ],
   "source": [
    "num = eval(input('输入一个三位数：'))\n",
    "if (num //100) == (num %10):\n",
    "    print(num,'is a palindrome')\n",
    "elif (num //100) != (num %10):\n",
    "     print(num,'is not a palindrome')"
   ]
  },
  {
   "cell_type": "markdown",
   "metadata": {},
   "source": [
    "- 12\n",
    "![](../Photo/53.png)"
   ]
  },
  {
   "cell_type": "code",
   "execution_count": 19,
   "metadata": {},
   "outputs": [
    {
     "name": "stdout",
     "output_type": "stream",
     "text": [
      "a,b,c:1,1,1\n",
      "合法\n",
      "The perimeter 3\n"
     ]
    }
   ],
   "source": [
    "a,b,c = eval(input('a,b,c:'))\n",
    "if (a+b > c) and (a+c > b ) and (b+c > a ):\n",
    "    print ('合法')\n",
    "    print('The perimeter',a+b+c)\n",
    "elif   (a+b< c) or (a+c <b) or (b+c < a)  :\n",
    "    print('这个输入是非法的')"
   ]
  }
 ],
 "metadata": {
  "kernelspec": {
   "display_name": "Python 3",
   "language": "python",
   "name": "python3"
  },
  "language_info": {
   "codemirror_mode": {
    "name": "ipython",
    "version": 3
   },
   "file_extension": ".py",
   "mimetype": "text/x-python",
   "name": "python",
   "nbconvert_exporter": "python",
   "pygments_lexer": "ipython3",
   "version": "3.6.4"
  }
 },
 "nbformat": 4,
 "nbformat_minor": 2
}
