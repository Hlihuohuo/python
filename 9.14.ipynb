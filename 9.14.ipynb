{
 "cells": [
  {
   "cell_type": "markdown",
   "metadata": {},
   "source": [
    "# 函数\n",
    "\n",
    "- 函数可以用来定义可重复代码，组织和简化\n",
    "- 一般来说一个函数在实际开发中为一个小功能\n",
    "- 一个类为一个大功能\n",
    "- 同样函数的长度不要超过一屏"
   ]
  },
  {
   "cell_type": "markdown",
   "metadata": {},
   "source": [
    "## 定义一个函数\n",
    "\n",
    "def function_name(list of parameters):\n",
    "    \n",
    "    do something\n",
    "![](../Photo/69.png)\n",
    "- 以前使用的random 或者range 或者print.. 其实都是函数或者类"
   ]
  },
  {
   "cell_type": "code",
   "execution_count": null,
   "metadata": {},
   "outputs": [],
   "source": [
    "def fun_name(): #标识+函数名\n",
    "    pass"
   ]
  },
  {
   "cell_type": "code",
   "execution_count": 1,
   "metadata": {},
   "outputs": [],
   "source": [
    "def fun_name(): #标识+函数名\n",
    "    print('你真是一个小天才')"
   ]
  },
  {
   "cell_type": "code",
   "execution_count": 2,
   "metadata": {},
   "outputs": [
    {
     "name": "stdout",
     "output_type": "stream",
     "text": [
      "你真是一个小天才\n"
     ]
    }
   ],
   "source": [
    "fun_name()#  ()代表函数调用"
   ]
  },
  {
   "cell_type": "code",
   "execution_count": 14,
   "metadata": {},
   "outputs": [],
   "source": [
    "def fun_name1():\n",
    "    print('我觉得你一点都不可爱！')"
   ]
  },
  {
   "cell_type": "code",
   "execution_count": 15,
   "metadata": {},
   "outputs": [
    {
     "name": "stdout",
     "output_type": "stream",
     "text": [
      "我觉得你一点都不可爱！\n"
     ]
    }
   ],
   "source": [
    "fun_name1()"
   ]
  },
  {
   "cell_type": "code",
   "execution_count": 2,
   "metadata": {},
   "outputs": [],
   "source": [
    "def panduanjiou():\n",
    "    '''\n",
    "    这是一个判断奇偶的程序\n",
    "    '''\n",
    "    num = eval(input('输入一个数'))\n",
    "    if num % 2 ==0:\n",
    "        print('偶数')\n",
    "    else:\n",
    "        print('奇数')"
   ]
  },
  {
   "cell_type": "code",
   "execution_count": 3,
   "metadata": {},
   "outputs": [
    {
     "name": "stdout",
     "output_type": "stream",
     "text": [
      "输入一个数4\n",
      "偶数\n"
     ]
    }
   ],
   "source": [
    "panduanjiou() #shift + tab 弹出解释文档"
   ]
  },
  {
   "cell_type": "code",
   "execution_count": 29,
   "metadata": {},
   "outputs": [],
   "source": [
    "def panduansushu():\n",
    "    num = eval(input('输入一个数：'))\n",
    "#     for i in range (2,100):#输出100以内所有素数\n",
    "    for j in range(2,num):\n",
    "        if(num % j == 0):\n",
    "            print('这个数不是素数')\n",
    "            break\n",
    "    else:\n",
    "        print('这个数是素数')  "
   ]
  },
  {
   "cell_type": "code",
   "execution_count": 32,
   "metadata": {},
   "outputs": [
    {
     "name": "stdout",
     "output_type": "stream",
     "text": [
      "输入一个数：4\n",
      "这个数不是素数\n"
     ]
    }
   ],
   "source": [
    "panduansushu()"
   ]
  },
  {
   "cell_type": "code",
   "execution_count": 11,
   "metadata": {},
   "outputs": [],
   "source": [
    "def fun1():\n",
    "    num_ = eval (input('输入一个数'))\n",
    "    return num_"
   ]
  },
  {
   "cell_type": "code",
   "execution_count": 12,
   "metadata": {},
   "outputs": [
    {
     "name": "stdout",
     "output_type": "stream",
     "text": [
      "输入一个数10\n"
     ]
    },
    {
     "data": {
      "text/plain": [
       "10"
      ]
     },
     "execution_count": 12,
     "metadata": {},
     "output_type": "execute_result"
    }
   ],
   "source": [
    "fun1()"
   ]
  },
  {
   "cell_type": "code",
   "execution_count": null,
   "metadata": {},
   "outputs": [],
   "source": [
    "import os\n",
    "def kuajiang(name):#函数的传参\n",
    "    os.system('say {}你真是小邋遢'.format(name))"
   ]
  },
  {
   "cell_type": "code",
   "execution_count": null,
   "metadata": {},
   "outputs": [],
   "source": [
    "kuajiang('李火火')#位置参数 不带参数名传递方式"
   ]
  },
  {
   "cell_type": "code",
   "execution_count": null,
   "metadata": {},
   "outputs": [],
   "source": [
    "kuajiang(name = '李火火')#带参数名传递方式"
   ]
  },
  {
   "cell_type": "code",
   "execution_count": 33,
   "metadata": {},
   "outputs": [],
   "source": [
    "def y(x):\n",
    "    return x ** 2"
   ]
  },
  {
   "cell_type": "code",
   "execution_count": 38,
   "metadata": {},
   "outputs": [
    {
     "data": {
      "text/plain": [
       "10000"
      ]
     },
     "execution_count": 38,
     "metadata": {},
     "output_type": "execute_result"
    }
   ],
   "source": [
    "y (100)"
   ]
  },
  {
   "cell_type": "code",
   "execution_count": 47,
   "metadata": {},
   "outputs": [],
   "source": [
    "def san(num):\n",
    "    return num ** 3\n",
    "def liang(num):\n",
    "    return num ** 2\n",
    "\n",
    "def input_():\n",
    "    num = eval(input('>>'))\n",
    "    res3 = san(num)\n",
    "    res2 = liang(num)\n",
    "    print(res3 - res2)\n"
   ]
  },
  {
   "cell_type": "code",
   "execution_count": 48,
   "metadata": {},
   "outputs": [
    {
     "name": "stdout",
     "output_type": "stream",
     "text": [
      ">>500\n",
      "124750000\n"
     ]
    }
   ],
   "source": [
    "input_()"
   ]
  },
  {
   "cell_type": "markdown",
   "metadata": {},
   "source": [
    "## 调用一个函数\n",
    "- functionName()\n",
    "- \"()\" 就代表调用"
   ]
  },
  {
   "cell_type": "markdown",
   "metadata": {},
   "source": [
    "![](../Photo/70.png)"
   ]
  },
  {
   "cell_type": "markdown",
   "metadata": {},
   "source": [
    "## 带返回值和不带返回值的函数\n",
    "- return 返回的内容\n",
    "- return 返回多个值\n",
    "- 一般情况下，在多个函数协同完成一个功能的时候，那么将会有返回值"
   ]
  },
  {
   "cell_type": "markdown",
   "metadata": {},
   "source": [
    "![](../Photo/71.png)\n",
    "\n",
    "- 当然也可以自定义返回None"
   ]
  },
  {
   "cell_type": "markdown",
   "metadata": {},
   "source": [
    "## EP：\n",
    "![](../Photo/72.png)"
   ]
  },
  {
   "cell_type": "markdown",
   "metadata": {},
   "source": [
    "## 类型和关键字参数\n",
    "- 普通参数\n",
    "- 多个参数\n",
    "- 默认值参数\n",
    "- 不定长参数"
   ]
  },
  {
   "cell_type": "markdown",
   "metadata": {},
   "source": [
    "## 普通参数"
   ]
  },
  {
   "cell_type": "markdown",
   "metadata": {},
   "source": [
    "## 多个参数"
   ]
  },
  {
   "cell_type": "code",
   "execution_count": 1,
   "metadata": {},
   "outputs": [],
   "source": [
    "import os\n",
    "def kuajiang(name1,name2,name3):#函数的传参\n",
    "    os.system('say {}{}{}你们都是小邋遢'.format(name1,name2,name3))"
   ]
  },
  {
   "cell_type": "code",
   "execution_count": 2,
   "metadata": {},
   "outputs": [],
   "source": [
    "kuajiang(name1='大宝',name2='小宝',name3='小扒皮')"
   ]
  },
  {
   "cell_type": "code",
   "execution_count": 3,
   "metadata": {},
   "outputs": [],
   "source": [
    "import os\n",
    "#如果参数含有默认值，一定要统一放到最后面，不能交叉放入！！！\n",
    "def kuajiang(name1,name2,name3= '小扒皮'):#函数的传参\n",
    "    os.system('say {}{}{}你们都是小邋遢'.format(name1,name2,name3))"
   ]
  },
  {
   "cell_type": "code",
   "execution_count": 4,
   "metadata": {},
   "outputs": [],
   "source": [
    "kuajiang(name1='大宝',name2='小宝')"
   ]
  },
  {
   "cell_type": "code",
   "execution_count": null,
   "metadata": {},
   "outputs": [],
   "source": [
    "import pandas as pd#默认参数的一种传递方式\n",
    "pd.read_csv()"
   ]
  },
  {
   "cell_type": "code",
   "execution_count": null,
   "metadata": {},
   "outputs": [],
   "source": [
    "\n",
    "\n",
    "\n",
    "#一个例题，判断是否勾选7天内免登陆\n",
    "\n"
   ]
  },
  {
   "cell_type": "code",
   "execution_count": 10,
   "metadata": {},
   "outputs": [],
   "source": [
    "account = '4474747477@qq.com'#数据库里定义账号和密码\n",
    "password = 'haha123.'\n",
    "is_ok_and_y = False #中间值判断：是否勾选了7天内免登录，初始默认不勾选"
   ]
  },
  {
   "cell_type": "code",
   "execution_count": 11,
   "metadata": {},
   "outputs": [],
   "source": [
    "def login(account_login,password_login):\n",
    "    if account_login == account and password_login == password:\n",
    "        print('登录成功')\n",
    "    else:\n",
    "        print('账号和密码错误')"
   ]
  },
  {
   "cell_type": "code",
   "execution_count": 12,
   "metadata": {},
   "outputs": [
    {
     "name": "stdout",
     "output_type": "stream",
     "text": [
      "登录成功\n"
     ]
    }
   ],
   "source": [
    "login(account_login = '4474747477@qq.com',password_login ='haha123.')"
   ]
  },
  {
   "cell_type": "code",
   "execution_count": 13,
   "metadata": {},
   "outputs": [],
   "source": [
    "def start():\n",
    "    global is_ok_and_y #设置一个全局变量\n",
    "    if is_ok_and_y ==False:\n",
    "        print('是否七天免登录?y/n')\n",
    "        res = input('输入y或者n')\n",
    "        account_login =  input('请输入账号:')\n",
    "        password_login =  input('请输入密码:')\n",
    "        if res == 'y':\n",
    "            login(account_login,password_login)\n",
    "            is_ok_and_y = True\n",
    "        else:\n",
    "             login(account_login,password_login)\n",
    "    else:\n",
    "        print('登录成功')\n"
   ]
  },
  {
   "cell_type": "code",
   "execution_count": 15,
   "metadata": {},
   "outputs": [
    {
     "name": "stdout",
     "output_type": "stream",
     "text": [
      "是否七天免登录?y/n\n",
      "输入y或者ny\n",
      "请输入账号:mmjm\n",
      "请输入密码:kkkk\n",
      "账号和密码错误\n"
     ]
    }
   ],
   "source": [
    "start()"
   ]
  },
  {
   "cell_type": "markdown",
   "metadata": {},
   "source": [
    "## 默认值参数"
   ]
  },
  {
   "cell_type": "code",
   "execution_count": null,
   "metadata": {},
   "outputs": [],
   "source": [
    "*  重要参数"
   ]
  },
  {
   "cell_type": "markdown",
   "metadata": {},
   "source": [
    "## 强制命名"
   ]
  },
  {
   "cell_type": "markdown",
   "metadata": {},
   "source": [
    "## 不定长参数\n",
    "- \\*args\n",
    "> - 不定长，来多少装多少，不装也是可以的\n",
    "  - 返回的数据类型是元组\n",
    "  - args 名字是可以修改的，只是我们约定俗成的是args\n",
    "- \\**kwargs \n",
    "> - 返回的字典\n",
    "  - 输入的一定要是表达式（键值对）\n",
    "- name,\\*args,name2,\\**kwargs  使用参数名"
   ]
  },
  {
   "cell_type": "code",
   "execution_count": 5,
   "metadata": {},
   "outputs": [],
   "source": [
    "import os\n",
    "#如果参数含有默认值，一定要统一放到最后面，不能交叉放入！！！\n",
    "def kuajiang(*args):#函数的传参\n",
    "    print(args)\n",
    "    res =  ','.join(args)\n",
    "    print(res)\n",
    "    os.system('say {}你们都是小邋遢'.format(res))"
   ]
  },
  {
   "cell_type": "code",
   "execution_count": 6,
   "metadata": {},
   "outputs": [
    {
     "name": "stdout",
     "output_type": "stream",
     "text": [
      "('xixi', 'lala', 'haha')\n",
      "xixi,lala,haha\n"
     ]
    }
   ],
   "source": [
    "kuajiang('xixi','lala','haha')"
   ]
  },
  {
   "cell_type": "code",
   "execution_count": 19,
   "metadata": {},
   "outputs": [],
   "source": [
    "def test(*args):\n",
    "    print(args)"
   ]
  },
  {
   "cell_type": "code",
   "execution_count": 20,
   "metadata": {},
   "outputs": [
    {
     "name": "stdout",
     "output_type": "stream",
     "text": [
      "(1, 2, 3, 4, 5, 7, 8, 9)\n"
     ]
    }
   ],
   "source": [
    "test(1,2,3,4,5,7,8,9)#元祖"
   ]
  },
  {
   "cell_type": "code",
   "execution_count": 26,
   "metadata": {},
   "outputs": [],
   "source": [
    "def test(**kwargs):\n",
    "    print(kwargs)"
   ]
  },
  {
   "cell_type": "code",
   "execution_count": 27,
   "metadata": {},
   "outputs": [
    {
     "name": "stdout",
     "output_type": "stream",
     "text": [
      "{'a': 1, 'b': 2, 'c': 3}\n"
     ]
    }
   ],
   "source": [
    "test(a =1,b=2,c=3)"
   ]
  },
  {
   "cell_type": "markdown",
   "metadata": {},
   "source": [
    "## 变量的作用域\n",
    "- 局部变量 local\n",
    "- 全局变量 global\n",
    "- globals 函数返回一个全局变量的字典，包括所有导入的变量\n",
    "- locals() 函数会以字典类型返回当前位置的全部局部变量。"
   ]
  },
  {
   "cell_type": "markdown",
   "metadata": {},
   "source": [
    "## 注意：\n",
    "- global ：在进行赋值操作的时候需要声明\n",
    "- 官方解释：This is because when you make an assignment to a variable in a scope, that variable becomes local to that scope and shadows any similarly named variable in the outer scope.\n",
    "- ![](../Photo/73.png)"
   ]
  },
  {
   "cell_type": "code",
   "execution_count": 33,
   "metadata": {},
   "outputs": [],
   "source": [
    "a =100\n",
    "b = 100\n",
    "c =100\n",
    "def test2():\n",
    "    global a,b,c\n",
    "    a =1000\n",
    "    b =1000\n",
    "    c =1000\n",
    "    print(a,b,c)"
   ]
  },
  {
   "cell_type": "code",
   "execution_count": 34,
   "metadata": {},
   "outputs": [
    {
     "name": "stdout",
     "output_type": "stream",
     "text": [
      "1000 1000 1000\n",
      "1000 1000 1000\n"
     ]
    }
   ],
   "source": [
    "test2()\n",
    "print(a,b,c)"
   ]
  },
  {
   "cell_type": "code",
   "execution_count": 35,
   "metadata": {
    "collapsed": true
   },
   "outputs": [
    {
     "data": {
      "text/plain": [
       "{'In': ['',\n",
       "  \"def start():\\n    globle is_ok_and_y #设置一个全局变量\\n    if is_ok_and_y ==False:\\n        print('是否七天免登录?y/n')\\n        res = input('输入y或者n')\\n        account_login =  input('请输入账号:')\\n        password_login =  input('请输入密码:')\\n        if res == 'y':\\n            login(account_login,password_login)\\n            is_ok_and_y = True\\n        else:\\n             login(account_login,password_login)\\n    else:\\n        print('登录成功')\",\n",
       "  \"def start():\\n    global is_ok_and_y #设置一个全局变量\\n    if is_ok_and_y ==False:\\n        print('是否七天免登录?y/n')\\n        res = input('输入y或者n')\\n        account_login =  input('请输入账号:')\\n        password_login =  input('请输入密码:')\\n        if res == 'y':\\n            login(account_login,password_login)\\n            is_ok_and_y = True\\n        else:\\n             login(account_login,password_login)\\n    else:\\n        print('登录成功')\",\n",
       "  'start()',\n",
       "  \"account = '4474747477@qq.com'#数据库里定义账号和密码\\npassword = 'haha123.'\\nis_ok_and_y = False #中间值判断：是否勾选了7天内免登录\",\n",
       "  \"def login(account_login,password_login):\\n    if account_login == account and password_login == password:\\n        print('登录成功')\\n    else:\\n        print('账号和密码错误')\",\n",
       "  \"login(account_login = '4474747477@qq.com',password_login ='haha123.')\",\n",
       "  \"def start():\\n    global is_ok_and_y #设置一个全局变量\\n    if is_ok_and_y ==False:\\n        print('是否七天免登录?y/n')\\n        res = input('输入y或者n')\\n        account_login =  input('请输入账号:')\\n        password_login =  input('请输入密码:')\\n        if res == 'y':\\n            login(account_login,password_login)\\n            is_ok_and_y = True\\n        else:\\n             login(account_login,password_login)\\n    else:\\n        print('登录成功')\",\n",
       "  'start()',\n",
       "  'start()',\n",
       "  \"account = '4474747477@qq.com'#数据库里定义账号和密码\\npassword = 'haha123.'\\nis_ok_and_y = False #中间值判断：是否勾选了7天内免登录\",\n",
       "  \"def login(account_login,password_login):\\n    if account_login == account and password_login == password:\\n        print('登录成功')\\n    else:\\n        print('账号和密码错误')\",\n",
       "  \"login(account_login = '4474747477@qq.com',password_login ='haha123.')\",\n",
       "  \"def start():\\n    global is_ok_and_y #设置一个全局变量\\n    if is_ok_and_y ==False:\\n        print('是否七天免登录?y/n')\\n        res = input('输入y或者n')\\n        account_login =  input('请输入账号:')\\n        password_login =  input('请输入密码:')\\n        if res == 'y':\\n            login(account_login,password_login)\\n            is_ok_and_y = True\\n        else:\\n             login(account_login,password_login)\\n    else:\\n        print('登录成功')\",\n",
       "  'start()',\n",
       "  'start()',\n",
       "  \"import os\\n#如果参数含有默认值，一定要统一放到最后面，不能交叉放入！！！\\ndef kuajiang(*args):#函数的传参\\n    print(args)\\n    res =  ','.join(joker)\\n    print(res)\\n    os.system('say {}{}{}你们都是小邋遢'.format(res))\",\n",
       "  \"kuajiang('xixi','lala','haha')\",\n",
       "  \"import os\\n#如果参数含有默认值，一定要统一放到最后面，不能交叉放入！！！\\ndef kuajiang(*args):#函数的传参\\n    print(args)\\n    res =  ','.join(joker)\\n    print(res)\\n    os.system('say {}{}{}你们都是小邋遢'.format(res))\",\n",
       "  'def test(*args):\\n    print(args)',\n",
       "  'test(1,2,3,4,5,7,8,9)',\n",
       "  \"import os\\n#如果参数含有默认值，一定要统一放到最后面，不能交叉放入！！！\\ndef kuajiang(*args):#函数的传参\\n    print(args)\\n    res =  ','.join()\\n    print(res)\\n    os.system('say {}{}{}你们都是小邋遢'.format(res))\",\n",
       "  \"import os\\n#如果参数含有默认值，一定要统一放到最后面，不能交叉放入！！！\\ndef kuajiang(*args):#函数的传参\\n    print(args)\\n    res =  ','.join()\\n    print(res)\\n    os.system('say {}{}{}你们都是小邋遢'.format(res))\",\n",
       "  \"kuajiang('xixi','lala','haha')\",\n",
       "  'test(a =1,b=2,c-3)',\n",
       "  'test(a =1,b=2,c=3)',\n",
       "  'def test(**kwargs):\\n    print(kwargs)',\n",
       "  'test(a =1,b=2,c=3)',\n",
       "  \"import os\\n#如果参数含有默认值，一定要统一放到最后面，不能交叉放入！！！\\ndef kuajiang(*args):#函数的传参\\n    print(args)\\n    res =  ','.join(args)\\n    print(res)\\n    os.system('say {}{}{}你们都是小邋遢'.format(res))\",\n",
       "  \"kuajiang('xixi','lala','haha')\",\n",
       "  'test2()\\nprint(a,b,c)',\n",
       "  'a =100\\nb = 100\\nc =100\\ndef test2():\\n    a =1000\\n    b =1000\\n    c =1000\\n    print(a,b,c)',\n",
       "  'test2()\\nprint(a,b,c)',\n",
       "  'a =100\\nb = 100\\nc =100\\ndef test2():\\n    global a,b,c\\n    a =1000\\n    b =1000\\n    c =1000\\n    print(a,b,c)',\n",
       "  'test2()\\nprint(a,b,c)',\n",
       "  'globals()'],\n",
       " 'Out': {},\n",
       " '_': '',\n",
       " '__': '',\n",
       " '___': '',\n",
       " '__builtin__': <module 'builtins' (built-in)>,\n",
       " '__builtins__': <module 'builtins' (built-in)>,\n",
       " '__doc__': 'Automatically created module for IPython interactive environment',\n",
       " '__loader__': None,\n",
       " '__name__': '__main__',\n",
       " '__package__': None,\n",
       " '__spec__': None,\n",
       " '_dh': ['C:\\\\Users\\\\kl\\\\Desktop\\\\python文件\\\\python'],\n",
       " '_i': 'test2()\\nprint(a,b,c)',\n",
       " '_i1': \"def start():\\n    globle is_ok_and_y #设置一个全局变量\\n    if is_ok_and_y ==False:\\n        print('是否七天免登录?y/n')\\n        res = input('输入y或者n')\\n        account_login =  input('请输入账号:')\\n        password_login =  input('请输入密码:')\\n        if res == 'y':\\n            login(account_login,password_login)\\n            is_ok_and_y = True\\n        else:\\n             login(account_login,password_login)\\n    else:\\n        print('登录成功')\",\n",
       " '_i10': \"account = '4474747477@qq.com'#数据库里定义账号和密码\\npassword = 'haha123.'\\nis_ok_and_y = False #中间值判断：是否勾选了7天内免登录\",\n",
       " '_i11': \"def login(account_login,password_login):\\n    if account_login == account and password_login == password:\\n        print('登录成功')\\n    else:\\n        print('账号和密码错误')\",\n",
       " '_i12': \"login(account_login = '4474747477@qq.com',password_login ='haha123.')\",\n",
       " '_i13': \"def start():\\n    global is_ok_and_y #设置一个全局变量\\n    if is_ok_and_y ==False:\\n        print('是否七天免登录?y/n')\\n        res = input('输入y或者n')\\n        account_login =  input('请输入账号:')\\n        password_login =  input('请输入密码:')\\n        if res == 'y':\\n            login(account_login,password_login)\\n            is_ok_and_y = True\\n        else:\\n             login(account_login,password_login)\\n    else:\\n        print('登录成功')\",\n",
       " '_i14': 'start()',\n",
       " '_i15': 'start()',\n",
       " '_i16': \"import os\\n#如果参数含有默认值，一定要统一放到最后面，不能交叉放入！！！\\ndef kuajiang(*args):#函数的传参\\n    print(args)\\n    res =  ','.join(joker)\\n    print(res)\\n    os.system('say {}{}{}你们都是小邋遢'.format(res))\",\n",
       " '_i17': \"kuajiang('xixi','lala','haha')\",\n",
       " '_i18': \"import os\\n#如果参数含有默认值，一定要统一放到最后面，不能交叉放入！！！\\ndef kuajiang(*args):#函数的传参\\n    print(args)\\n    res =  ','.join(joker)\\n    print(res)\\n    os.system('say {}{}{}你们都是小邋遢'.format(res))\",\n",
       " '_i19': 'def test(*args):\\n    print(args)',\n",
       " '_i2': \"def start():\\n    global is_ok_and_y #设置一个全局变量\\n    if is_ok_and_y ==False:\\n        print('是否七天免登录?y/n')\\n        res = input('输入y或者n')\\n        account_login =  input('请输入账号:')\\n        password_login =  input('请输入密码:')\\n        if res == 'y':\\n            login(account_login,password_login)\\n            is_ok_and_y = True\\n        else:\\n             login(account_login,password_login)\\n    else:\\n        print('登录成功')\",\n",
       " '_i20': 'test(1,2,3,4,5,7,8,9)',\n",
       " '_i21': \"import os\\n#如果参数含有默认值，一定要统一放到最后面，不能交叉放入！！！\\ndef kuajiang(*args):#函数的传参\\n    print(args)\\n    res =  ','.join()\\n    print(res)\\n    os.system('say {}{}{}你们都是小邋遢'.format(res))\",\n",
       " '_i22': \"import os\\n#如果参数含有默认值，一定要统一放到最后面，不能交叉放入！！！\\ndef kuajiang(*args):#函数的传参\\n    print(args)\\n    res =  ','.join()\\n    print(res)\\n    os.system('say {}{}{}你们都是小邋遢'.format(res))\",\n",
       " '_i23': \"kuajiang('xixi','lala','haha')\",\n",
       " '_i24': 'test(a =1,b=2,c-3)',\n",
       " '_i25': 'test(a =1,b=2,c=3)',\n",
       " '_i26': 'def test(**kwargs):\\n    print(kwargs)',\n",
       " '_i27': 'test(a =1,b=2,c=3)',\n",
       " '_i28': \"import os\\n#如果参数含有默认值，一定要统一放到最后面，不能交叉放入！！！\\ndef kuajiang(*args):#函数的传参\\n    print(args)\\n    res =  ','.join(args)\\n    print(res)\\n    os.system('say {}{}{}你们都是小邋遢'.format(res))\",\n",
       " '_i29': \"kuajiang('xixi','lala','haha')\",\n",
       " '_i3': 'start()',\n",
       " '_i30': 'test2()\\nprint(a,b,c)',\n",
       " '_i31': 'a =100\\nb = 100\\nc =100\\ndef test2():\\n    a =1000\\n    b =1000\\n    c =1000\\n    print(a,b,c)',\n",
       " '_i32': 'test2()\\nprint(a,b,c)',\n",
       " '_i33': 'a =100\\nb = 100\\nc =100\\ndef test2():\\n    global a,b,c\\n    a =1000\\n    b =1000\\n    c =1000\\n    print(a,b,c)',\n",
       " '_i34': 'test2()\\nprint(a,b,c)',\n",
       " '_i35': 'globals()',\n",
       " '_i4': \"account = '4474747477@qq.com'#数据库里定义账号和密码\\npassword = 'haha123.'\\nis_ok_and_y = False #中间值判断：是否勾选了7天内免登录\",\n",
       " '_i5': \"def login(account_login,password_login):\\n    if account_login == account and password_login == password:\\n        print('登录成功')\\n    else:\\n        print('账号和密码错误')\",\n",
       " '_i6': \"login(account_login = '4474747477@qq.com',password_login ='haha123.')\",\n",
       " '_i7': \"def start():\\n    global is_ok_and_y #设置一个全局变量\\n    if is_ok_and_y ==False:\\n        print('是否七天免登录?y/n')\\n        res = input('输入y或者n')\\n        account_login =  input('请输入账号:')\\n        password_login =  input('请输入密码:')\\n        if res == 'y':\\n            login(account_login,password_login)\\n            is_ok_and_y = True\\n        else:\\n             login(account_login,password_login)\\n    else:\\n        print('登录成功')\",\n",
       " '_i8': 'start()',\n",
       " '_i9': 'start()',\n",
       " '_ih': ['',\n",
       "  \"def start():\\n    globle is_ok_and_y #设置一个全局变量\\n    if is_ok_and_y ==False:\\n        print('是否七天免登录?y/n')\\n        res = input('输入y或者n')\\n        account_login =  input('请输入账号:')\\n        password_login =  input('请输入密码:')\\n        if res == 'y':\\n            login(account_login,password_login)\\n            is_ok_and_y = True\\n        else:\\n             login(account_login,password_login)\\n    else:\\n        print('登录成功')\",\n",
       "  \"def start():\\n    global is_ok_and_y #设置一个全局变量\\n    if is_ok_and_y ==False:\\n        print('是否七天免登录?y/n')\\n        res = input('输入y或者n')\\n        account_login =  input('请输入账号:')\\n        password_login =  input('请输入密码:')\\n        if res == 'y':\\n            login(account_login,password_login)\\n            is_ok_and_y = True\\n        else:\\n             login(account_login,password_login)\\n    else:\\n        print('登录成功')\",\n",
       "  'start()',\n",
       "  \"account = '4474747477@qq.com'#数据库里定义账号和密码\\npassword = 'haha123.'\\nis_ok_and_y = False #中间值判断：是否勾选了7天内免登录\",\n",
       "  \"def login(account_login,password_login):\\n    if account_login == account and password_login == password:\\n        print('登录成功')\\n    else:\\n        print('账号和密码错误')\",\n",
       "  \"login(account_login = '4474747477@qq.com',password_login ='haha123.')\",\n",
       "  \"def start():\\n    global is_ok_and_y #设置一个全局变量\\n    if is_ok_and_y ==False:\\n        print('是否七天免登录?y/n')\\n        res = input('输入y或者n')\\n        account_login =  input('请输入账号:')\\n        password_login =  input('请输入密码:')\\n        if res == 'y':\\n            login(account_login,password_login)\\n            is_ok_and_y = True\\n        else:\\n             login(account_login,password_login)\\n    else:\\n        print('登录成功')\",\n",
       "  'start()',\n",
       "  'start()',\n",
       "  \"account = '4474747477@qq.com'#数据库里定义账号和密码\\npassword = 'haha123.'\\nis_ok_and_y = False #中间值判断：是否勾选了7天内免登录\",\n",
       "  \"def login(account_login,password_login):\\n    if account_login == account and password_login == password:\\n        print('登录成功')\\n    else:\\n        print('账号和密码错误')\",\n",
       "  \"login(account_login = '4474747477@qq.com',password_login ='haha123.')\",\n",
       "  \"def start():\\n    global is_ok_and_y #设置一个全局变量\\n    if is_ok_and_y ==False:\\n        print('是否七天免登录?y/n')\\n        res = input('输入y或者n')\\n        account_login =  input('请输入账号:')\\n        password_login =  input('请输入密码:')\\n        if res == 'y':\\n            login(account_login,password_login)\\n            is_ok_and_y = True\\n        else:\\n             login(account_login,password_login)\\n    else:\\n        print('登录成功')\",\n",
       "  'start()',\n",
       "  'start()',\n",
       "  \"import os\\n#如果参数含有默认值，一定要统一放到最后面，不能交叉放入！！！\\ndef kuajiang(*args):#函数的传参\\n    print(args)\\n    res =  ','.join(joker)\\n    print(res)\\n    os.system('say {}{}{}你们都是小邋遢'.format(res))\",\n",
       "  \"kuajiang('xixi','lala','haha')\",\n",
       "  \"import os\\n#如果参数含有默认值，一定要统一放到最后面，不能交叉放入！！！\\ndef kuajiang(*args):#函数的传参\\n    print(args)\\n    res =  ','.join(joker)\\n    print(res)\\n    os.system('say {}{}{}你们都是小邋遢'.format(res))\",\n",
       "  'def test(*args):\\n    print(args)',\n",
       "  'test(1,2,3,4,5,7,8,9)',\n",
       "  \"import os\\n#如果参数含有默认值，一定要统一放到最后面，不能交叉放入！！！\\ndef kuajiang(*args):#函数的传参\\n    print(args)\\n    res =  ','.join()\\n    print(res)\\n    os.system('say {}{}{}你们都是小邋遢'.format(res))\",\n",
       "  \"import os\\n#如果参数含有默认值，一定要统一放到最后面，不能交叉放入！！！\\ndef kuajiang(*args):#函数的传参\\n    print(args)\\n    res =  ','.join()\\n    print(res)\\n    os.system('say {}{}{}你们都是小邋遢'.format(res))\",\n",
       "  \"kuajiang('xixi','lala','haha')\",\n",
       "  'test(a =1,b=2,c-3)',\n",
       "  'test(a =1,b=2,c=3)',\n",
       "  'def test(**kwargs):\\n    print(kwargs)',\n",
       "  'test(a =1,b=2,c=3)',\n",
       "  \"import os\\n#如果参数含有默认值，一定要统一放到最后面，不能交叉放入！！！\\ndef kuajiang(*args):#函数的传参\\n    print(args)\\n    res =  ','.join(args)\\n    print(res)\\n    os.system('say {}{}{}你们都是小邋遢'.format(res))\",\n",
       "  \"kuajiang('xixi','lala','haha')\",\n",
       "  'test2()\\nprint(a,b,c)',\n",
       "  'a =100\\nb = 100\\nc =100\\ndef test2():\\n    a =1000\\n    b =1000\\n    c =1000\\n    print(a,b,c)',\n",
       "  'test2()\\nprint(a,b,c)',\n",
       "  'a =100\\nb = 100\\nc =100\\ndef test2():\\n    global a,b,c\\n    a =1000\\n    b =1000\\n    c =1000\\n    print(a,b,c)',\n",
       "  'test2()\\nprint(a,b,c)',\n",
       "  'globals()'],\n",
       " '_ii': 'a =100\\nb = 100\\nc =100\\ndef test2():\\n    global a,b,c\\n    a =1000\\n    b =1000\\n    c =1000\\n    print(a,b,c)',\n",
       " '_iii': 'test2()\\nprint(a,b,c)',\n",
       " '_oh': {},\n",
       " 'a': 1000,\n",
       " 'account': '4474747477@qq.com',\n",
       " 'b': 1000,\n",
       " 'c': 1000,\n",
       " 'exit': <IPython.core.autocall.ZMQExitAutocall at 0x4597350>,\n",
       " 'get_ipython': <bound method InteractiveShell.get_ipython of <ipykernel.zmqshell.ZMQInteractiveShell object at 0x04586150>>,\n",
       " 'is_ok_and_y': True,\n",
       " 'kuajiang': <function __main__.kuajiang>,\n",
       " 'login': <function __main__.login>,\n",
       " 'os': <module 'os' from 'D:\\\\ProgramData\\\\Anaconda3\\\\lib\\\\os.py'>,\n",
       " 'password': 'haha123.',\n",
       " 'quit': <IPython.core.autocall.ZMQExitAutocall at 0x4597350>,\n",
       " 'start': <function __main__.start>,\n",
       " 'test': <function __main__.test>,\n",
       " 'test2': <function __main__.test2>}"
      ]
     },
     "execution_count": 35,
     "metadata": {},
     "output_type": "execute_result"
    }
   ],
   "source": [
    "globals()#输出当前脚本下的所有全局变量"
   ]
  },
  {
   "cell_type": "code",
   "execution_count": 36,
   "metadata": {
    "collapsed": true
   },
   "outputs": [
    {
     "data": {
      "text/plain": [
       "{'In': ['',\n",
       "  \"def start():\\n    globle is_ok_and_y #设置一个全局变量\\n    if is_ok_and_y ==False:\\n        print('是否七天免登录?y/n')\\n        res = input('输入y或者n')\\n        account_login =  input('请输入账号:')\\n        password_login =  input('请输入密码:')\\n        if res == 'y':\\n            login(account_login,password_login)\\n            is_ok_and_y = True\\n        else:\\n             login(account_login,password_login)\\n    else:\\n        print('登录成功')\",\n",
       "  \"def start():\\n    global is_ok_and_y #设置一个全局变量\\n    if is_ok_and_y ==False:\\n        print('是否七天免登录?y/n')\\n        res = input('输入y或者n')\\n        account_login =  input('请输入账号:')\\n        password_login =  input('请输入密码:')\\n        if res == 'y':\\n            login(account_login,password_login)\\n            is_ok_and_y = True\\n        else:\\n             login(account_login,password_login)\\n    else:\\n        print('登录成功')\",\n",
       "  'start()',\n",
       "  \"account = '4474747477@qq.com'#数据库里定义账号和密码\\npassword = 'haha123.'\\nis_ok_and_y = False #中间值判断：是否勾选了7天内免登录\",\n",
       "  \"def login(account_login,password_login):\\n    if account_login == account and password_login == password:\\n        print('登录成功')\\n    else:\\n        print('账号和密码错误')\",\n",
       "  \"login(account_login = '4474747477@qq.com',password_login ='haha123.')\",\n",
       "  \"def start():\\n    global is_ok_and_y #设置一个全局变量\\n    if is_ok_and_y ==False:\\n        print('是否七天免登录?y/n')\\n        res = input('输入y或者n')\\n        account_login =  input('请输入账号:')\\n        password_login =  input('请输入密码:')\\n        if res == 'y':\\n            login(account_login,password_login)\\n            is_ok_and_y = True\\n        else:\\n             login(account_login,password_login)\\n    else:\\n        print('登录成功')\",\n",
       "  'start()',\n",
       "  'start()',\n",
       "  \"account = '4474747477@qq.com'#数据库里定义账号和密码\\npassword = 'haha123.'\\nis_ok_and_y = False #中间值判断：是否勾选了7天内免登录\",\n",
       "  \"def login(account_login,password_login):\\n    if account_login == account and password_login == password:\\n        print('登录成功')\\n    else:\\n        print('账号和密码错误')\",\n",
       "  \"login(account_login = '4474747477@qq.com',password_login ='haha123.')\",\n",
       "  \"def start():\\n    global is_ok_and_y #设置一个全局变量\\n    if is_ok_and_y ==False:\\n        print('是否七天免登录?y/n')\\n        res = input('输入y或者n')\\n        account_login =  input('请输入账号:')\\n        password_login =  input('请输入密码:')\\n        if res == 'y':\\n            login(account_login,password_login)\\n            is_ok_and_y = True\\n        else:\\n             login(account_login,password_login)\\n    else:\\n        print('登录成功')\",\n",
       "  'start()',\n",
       "  'start()',\n",
       "  \"import os\\n#如果参数含有默认值，一定要统一放到最后面，不能交叉放入！！！\\ndef kuajiang(*args):#函数的传参\\n    print(args)\\n    res =  ','.join(joker)\\n    print(res)\\n    os.system('say {}{}{}你们都是小邋遢'.format(res))\",\n",
       "  \"kuajiang('xixi','lala','haha')\",\n",
       "  \"import os\\n#如果参数含有默认值，一定要统一放到最后面，不能交叉放入！！！\\ndef kuajiang(*args):#函数的传参\\n    print(args)\\n    res =  ','.join(joker)\\n    print(res)\\n    os.system('say {}{}{}你们都是小邋遢'.format(res))\",\n",
       "  'def test(*args):\\n    print(args)',\n",
       "  'test(1,2,3,4,5,7,8,9)',\n",
       "  \"import os\\n#如果参数含有默认值，一定要统一放到最后面，不能交叉放入！！！\\ndef kuajiang(*args):#函数的传参\\n    print(args)\\n    res =  ','.join()\\n    print(res)\\n    os.system('say {}{}{}你们都是小邋遢'.format(res))\",\n",
       "  \"import os\\n#如果参数含有默认值，一定要统一放到最后面，不能交叉放入！！！\\ndef kuajiang(*args):#函数的传参\\n    print(args)\\n    res =  ','.join()\\n    print(res)\\n    os.system('say {}{}{}你们都是小邋遢'.format(res))\",\n",
       "  \"kuajiang('xixi','lala','haha')\",\n",
       "  'test(a =1,b=2,c-3)',\n",
       "  'test(a =1,b=2,c=3)',\n",
       "  'def test(**kwargs):\\n    print(kwargs)',\n",
       "  'test(a =1,b=2,c=3)',\n",
       "  \"import os\\n#如果参数含有默认值，一定要统一放到最后面，不能交叉放入！！！\\ndef kuajiang(*args):#函数的传参\\n    print(args)\\n    res =  ','.join(args)\\n    print(res)\\n    os.system('say {}{}{}你们都是小邋遢'.format(res))\",\n",
       "  \"kuajiang('xixi','lala','haha')\",\n",
       "  'test2()\\nprint(a,b,c)',\n",
       "  'a =100\\nb = 100\\nc =100\\ndef test2():\\n    a =1000\\n    b =1000\\n    c =1000\\n    print(a,b,c)',\n",
       "  'test2()\\nprint(a,b,c)',\n",
       "  'a =100\\nb = 100\\nc =100\\ndef test2():\\n    global a,b,c\\n    a =1000\\n    b =1000\\n    c =1000\\n    print(a,b,c)',\n",
       "  'test2()\\nprint(a,b,c)',\n",
       "  'globals()',\n",
       "  'locals()'],\n",
       " 'Out': {35: {...}},\n",
       " '_': {...},\n",
       " '_35': {...},\n",
       " '__': '',\n",
       " '___': '',\n",
       " '__builtin__': <module 'builtins' (built-in)>,\n",
       " '__builtins__': <module 'builtins' (built-in)>,\n",
       " '__doc__': 'Automatically created module for IPython interactive environment',\n",
       " '__loader__': None,\n",
       " '__name__': '__main__',\n",
       " '__package__': None,\n",
       " '__spec__': None,\n",
       " '_dh': ['C:\\\\Users\\\\kl\\\\Desktop\\\\python文件\\\\python'],\n",
       " '_i': 'globals()',\n",
       " '_i1': \"def start():\\n    globle is_ok_and_y #设置一个全局变量\\n    if is_ok_and_y ==False:\\n        print('是否七天免登录?y/n')\\n        res = input('输入y或者n')\\n        account_login =  input('请输入账号:')\\n        password_login =  input('请输入密码:')\\n        if res == 'y':\\n            login(account_login,password_login)\\n            is_ok_and_y = True\\n        else:\\n             login(account_login,password_login)\\n    else:\\n        print('登录成功')\",\n",
       " '_i10': \"account = '4474747477@qq.com'#数据库里定义账号和密码\\npassword = 'haha123.'\\nis_ok_and_y = False #中间值判断：是否勾选了7天内免登录\",\n",
       " '_i11': \"def login(account_login,password_login):\\n    if account_login == account and password_login == password:\\n        print('登录成功')\\n    else:\\n        print('账号和密码错误')\",\n",
       " '_i12': \"login(account_login = '4474747477@qq.com',password_login ='haha123.')\",\n",
       " '_i13': \"def start():\\n    global is_ok_and_y #设置一个全局变量\\n    if is_ok_and_y ==False:\\n        print('是否七天免登录?y/n')\\n        res = input('输入y或者n')\\n        account_login =  input('请输入账号:')\\n        password_login =  input('请输入密码:')\\n        if res == 'y':\\n            login(account_login,password_login)\\n            is_ok_and_y = True\\n        else:\\n             login(account_login,password_login)\\n    else:\\n        print('登录成功')\",\n",
       " '_i14': 'start()',\n",
       " '_i15': 'start()',\n",
       " '_i16': \"import os\\n#如果参数含有默认值，一定要统一放到最后面，不能交叉放入！！！\\ndef kuajiang(*args):#函数的传参\\n    print(args)\\n    res =  ','.join(joker)\\n    print(res)\\n    os.system('say {}{}{}你们都是小邋遢'.format(res))\",\n",
       " '_i17': \"kuajiang('xixi','lala','haha')\",\n",
       " '_i18': \"import os\\n#如果参数含有默认值，一定要统一放到最后面，不能交叉放入！！！\\ndef kuajiang(*args):#函数的传参\\n    print(args)\\n    res =  ','.join(joker)\\n    print(res)\\n    os.system('say {}{}{}你们都是小邋遢'.format(res))\",\n",
       " '_i19': 'def test(*args):\\n    print(args)',\n",
       " '_i2': \"def start():\\n    global is_ok_and_y #设置一个全局变量\\n    if is_ok_and_y ==False:\\n        print('是否七天免登录?y/n')\\n        res = input('输入y或者n')\\n        account_login =  input('请输入账号:')\\n        password_login =  input('请输入密码:')\\n        if res == 'y':\\n            login(account_login,password_login)\\n            is_ok_and_y = True\\n        else:\\n             login(account_login,password_login)\\n    else:\\n        print('登录成功')\",\n",
       " '_i20': 'test(1,2,3,4,5,7,8,9)',\n",
       " '_i21': \"import os\\n#如果参数含有默认值，一定要统一放到最后面，不能交叉放入！！！\\ndef kuajiang(*args):#函数的传参\\n    print(args)\\n    res =  ','.join()\\n    print(res)\\n    os.system('say {}{}{}你们都是小邋遢'.format(res))\",\n",
       " '_i22': \"import os\\n#如果参数含有默认值，一定要统一放到最后面，不能交叉放入！！！\\ndef kuajiang(*args):#函数的传参\\n    print(args)\\n    res =  ','.join()\\n    print(res)\\n    os.system('say {}{}{}你们都是小邋遢'.format(res))\",\n",
       " '_i23': \"kuajiang('xixi','lala','haha')\",\n",
       " '_i24': 'test(a =1,b=2,c-3)',\n",
       " '_i25': 'test(a =1,b=2,c=3)',\n",
       " '_i26': 'def test(**kwargs):\\n    print(kwargs)',\n",
       " '_i27': 'test(a =1,b=2,c=3)',\n",
       " '_i28': \"import os\\n#如果参数含有默认值，一定要统一放到最后面，不能交叉放入！！！\\ndef kuajiang(*args):#函数的传参\\n    print(args)\\n    res =  ','.join(args)\\n    print(res)\\n    os.system('say {}{}{}你们都是小邋遢'.format(res))\",\n",
       " '_i29': \"kuajiang('xixi','lala','haha')\",\n",
       " '_i3': 'start()',\n",
       " '_i30': 'test2()\\nprint(a,b,c)',\n",
       " '_i31': 'a =100\\nb = 100\\nc =100\\ndef test2():\\n    a =1000\\n    b =1000\\n    c =1000\\n    print(a,b,c)',\n",
       " '_i32': 'test2()\\nprint(a,b,c)',\n",
       " '_i33': 'a =100\\nb = 100\\nc =100\\ndef test2():\\n    global a,b,c\\n    a =1000\\n    b =1000\\n    c =1000\\n    print(a,b,c)',\n",
       " '_i34': 'test2()\\nprint(a,b,c)',\n",
       " '_i35': 'globals()',\n",
       " '_i36': 'locals()',\n",
       " '_i4': \"account = '4474747477@qq.com'#数据库里定义账号和密码\\npassword = 'haha123.'\\nis_ok_and_y = False #中间值判断：是否勾选了7天内免登录\",\n",
       " '_i5': \"def login(account_login,password_login):\\n    if account_login == account and password_login == password:\\n        print('登录成功')\\n    else:\\n        print('账号和密码错误')\",\n",
       " '_i6': \"login(account_login = '4474747477@qq.com',password_login ='haha123.')\",\n",
       " '_i7': \"def start():\\n    global is_ok_and_y #设置一个全局变量\\n    if is_ok_and_y ==False:\\n        print('是否七天免登录?y/n')\\n        res = input('输入y或者n')\\n        account_login =  input('请输入账号:')\\n        password_login =  input('请输入密码:')\\n        if res == 'y':\\n            login(account_login,password_login)\\n            is_ok_and_y = True\\n        else:\\n             login(account_login,password_login)\\n    else:\\n        print('登录成功')\",\n",
       " '_i8': 'start()',\n",
       " '_i9': 'start()',\n",
       " '_ih': ['',\n",
       "  \"def start():\\n    globle is_ok_and_y #设置一个全局变量\\n    if is_ok_and_y ==False:\\n        print('是否七天免登录?y/n')\\n        res = input('输入y或者n')\\n        account_login =  input('请输入账号:')\\n        password_login =  input('请输入密码:')\\n        if res == 'y':\\n            login(account_login,password_login)\\n            is_ok_and_y = True\\n        else:\\n             login(account_login,password_login)\\n    else:\\n        print('登录成功')\",\n",
       "  \"def start():\\n    global is_ok_and_y #设置一个全局变量\\n    if is_ok_and_y ==False:\\n        print('是否七天免登录?y/n')\\n        res = input('输入y或者n')\\n        account_login =  input('请输入账号:')\\n        password_login =  input('请输入密码:')\\n        if res == 'y':\\n            login(account_login,password_login)\\n            is_ok_and_y = True\\n        else:\\n             login(account_login,password_login)\\n    else:\\n        print('登录成功')\",\n",
       "  'start()',\n",
       "  \"account = '4474747477@qq.com'#数据库里定义账号和密码\\npassword = 'haha123.'\\nis_ok_and_y = False #中间值判断：是否勾选了7天内免登录\",\n",
       "  \"def login(account_login,password_login):\\n    if account_login == account and password_login == password:\\n        print('登录成功')\\n    else:\\n        print('账号和密码错误')\",\n",
       "  \"login(account_login = '4474747477@qq.com',password_login ='haha123.')\",\n",
       "  \"def start():\\n    global is_ok_and_y #设置一个全局变量\\n    if is_ok_and_y ==False:\\n        print('是否七天免登录?y/n')\\n        res = input('输入y或者n')\\n        account_login =  input('请输入账号:')\\n        password_login =  input('请输入密码:')\\n        if res == 'y':\\n            login(account_login,password_login)\\n            is_ok_and_y = True\\n        else:\\n             login(account_login,password_login)\\n    else:\\n        print('登录成功')\",\n",
       "  'start()',\n",
       "  'start()',\n",
       "  \"account = '4474747477@qq.com'#数据库里定义账号和密码\\npassword = 'haha123.'\\nis_ok_and_y = False #中间值判断：是否勾选了7天内免登录\",\n",
       "  \"def login(account_login,password_login):\\n    if account_login == account and password_login == password:\\n        print('登录成功')\\n    else:\\n        print('账号和密码错误')\",\n",
       "  \"login(account_login = '4474747477@qq.com',password_login ='haha123.')\",\n",
       "  \"def start():\\n    global is_ok_and_y #设置一个全局变量\\n    if is_ok_and_y ==False:\\n        print('是否七天免登录?y/n')\\n        res = input('输入y或者n')\\n        account_login =  input('请输入账号:')\\n        password_login =  input('请输入密码:')\\n        if res == 'y':\\n            login(account_login,password_login)\\n            is_ok_and_y = True\\n        else:\\n             login(account_login,password_login)\\n    else:\\n        print('登录成功')\",\n",
       "  'start()',\n",
       "  'start()',\n",
       "  \"import os\\n#如果参数含有默认值，一定要统一放到最后面，不能交叉放入！！！\\ndef kuajiang(*args):#函数的传参\\n    print(args)\\n    res =  ','.join(joker)\\n    print(res)\\n    os.system('say {}{}{}你们都是小邋遢'.format(res))\",\n",
       "  \"kuajiang('xixi','lala','haha')\",\n",
       "  \"import os\\n#如果参数含有默认值，一定要统一放到最后面，不能交叉放入！！！\\ndef kuajiang(*args):#函数的传参\\n    print(args)\\n    res =  ','.join(joker)\\n    print(res)\\n    os.system('say {}{}{}你们都是小邋遢'.format(res))\",\n",
       "  'def test(*args):\\n    print(args)',\n",
       "  'test(1,2,3,4,5,7,8,9)',\n",
       "  \"import os\\n#如果参数含有默认值，一定要统一放到最后面，不能交叉放入！！！\\ndef kuajiang(*args):#函数的传参\\n    print(args)\\n    res =  ','.join()\\n    print(res)\\n    os.system('say {}{}{}你们都是小邋遢'.format(res))\",\n",
       "  \"import os\\n#如果参数含有默认值，一定要统一放到最后面，不能交叉放入！！！\\ndef kuajiang(*args):#函数的传参\\n    print(args)\\n    res =  ','.join()\\n    print(res)\\n    os.system('say {}{}{}你们都是小邋遢'.format(res))\",\n",
       "  \"kuajiang('xixi','lala','haha')\",\n",
       "  'test(a =1,b=2,c-3)',\n",
       "  'test(a =1,b=2,c=3)',\n",
       "  'def test(**kwargs):\\n    print(kwargs)',\n",
       "  'test(a =1,b=2,c=3)',\n",
       "  \"import os\\n#如果参数含有默认值，一定要统一放到最后面，不能交叉放入！！！\\ndef kuajiang(*args):#函数的传参\\n    print(args)\\n    res =  ','.join(args)\\n    print(res)\\n    os.system('say {}{}{}你们都是小邋遢'.format(res))\",\n",
       "  \"kuajiang('xixi','lala','haha')\",\n",
       "  'test2()\\nprint(a,b,c)',\n",
       "  'a =100\\nb = 100\\nc =100\\ndef test2():\\n    a =1000\\n    b =1000\\n    c =1000\\n    print(a,b,c)',\n",
       "  'test2()\\nprint(a,b,c)',\n",
       "  'a =100\\nb = 100\\nc =100\\ndef test2():\\n    global a,b,c\\n    a =1000\\n    b =1000\\n    c =1000\\n    print(a,b,c)',\n",
       "  'test2()\\nprint(a,b,c)',\n",
       "  'globals()',\n",
       "  'locals()'],\n",
       " '_ii': 'test2()\\nprint(a,b,c)',\n",
       " '_iii': 'a =100\\nb = 100\\nc =100\\ndef test2():\\n    global a,b,c\\n    a =1000\\n    b =1000\\n    c =1000\\n    print(a,b,c)',\n",
       " '_oh': {35: {...}},\n",
       " 'a': 1000,\n",
       " 'account': '4474747477@qq.com',\n",
       " 'b': 1000,\n",
       " 'c': 1000,\n",
       " 'exit': <IPython.core.autocall.ZMQExitAutocall at 0x4597350>,\n",
       " 'get_ipython': <bound method InteractiveShell.get_ipython of <ipykernel.zmqshell.ZMQInteractiveShell object at 0x04586150>>,\n",
       " 'is_ok_and_y': True,\n",
       " 'kuajiang': <function __main__.kuajiang>,\n",
       " 'login': <function __main__.login>,\n",
       " 'os': <module 'os' from 'D:\\\\ProgramData\\\\Anaconda3\\\\lib\\\\os.py'>,\n",
       " 'password': 'haha123.',\n",
       " 'quit': <IPython.core.autocall.ZMQExitAutocall at 0x4597350>,\n",
       " 'start': <function __main__.start>,\n",
       " 'test': <function __main__.test>,\n",
       " 'test2': <function __main__.test2>}"
      ]
     },
     "execution_count": 36,
     "metadata": {},
     "output_type": "execute_result"
    }
   ],
   "source": [
    "locals()#输出当前脚本下的所有本地变量"
   ]
  },
  {
   "cell_type": "markdown",
   "metadata": {},
   "source": [
    "# Homework\n",
    "- 1\n",
    "![](../Photo/74.png)"
   ]
  },
  {
   "cell_type": "code",
   "execution_count": 1,
   "metadata": {},
   "outputs": [
    {
     "name": "stdout",
     "output_type": "stream",
     "text": [
      "1   5   12   22   35   51   70   92   117   145   \n",
      "176   210   247   287   330   376   425   477   532   590   \n",
      "651   715   782   852   925   1001   1080   1162   1247   1335   \n",
      "1426   1520   1617   1717   1820   1926   2035   2147   2262   2380   \n",
      "2501   2625   2752   2882   3015   3151   3290   3432   3577   3725   \n",
      "3876   4030   4187   4347   4510   4676   4845   5017   5192   5370   \n",
      "5551   5735   5922   6112   6305   6501   6700   6902   7107   7315   \n",
      "7526   7740   7957   8177   8400   8626   8855   9087   9322   9560   \n",
      "9801   10045   10292   10542   10795   11051   11310   11572   11837   12105   \n",
      "12376   12650   12927   13207   13490   13776   14065   14357   14652   14950   \n"
     ]
    }
   ],
   "source": [
    "def getPentagonalNumber():\n",
    "    i =0\n",
    "    for n in range(1,101):\n",
    "            num = int((n * ( 3 * n - 1) )/ 2 )\n",
    "            i += 1\n",
    "            if num < 100000:\n",
    "                print(num,' ',end=' ') \n",
    "                if i % 10 == 0:\n",
    "                        print( )\n",
    "getPentagonalNumber()"
   ]
  },
  {
   "cell_type": "markdown",
   "metadata": {},
   "source": [
    "- 2 \n",
    "![](../Photo/75.png)"
   ]
  },
  {
   "cell_type": "code",
   "execution_count": 2,
   "metadata": {},
   "outputs": [
    {
     "name": "stdout",
     "output_type": "stream",
     "text": [
      "请输入一个整数:234\n",
      "各个数字的和：9\n"
     ]
    }
   ],
   "source": [
    "def sumDigits():\n",
    "    sum_ = 0\n",
    "    num = eval(input('请输入一个整数:'))\n",
    "    while num % 10 !=0:\n",
    "        sum_ += num % 10\n",
    "        num = num // 10\n",
    "    print('各个数字的和：'+str(sum_))\n",
    "sumDigits()"
   ]
  },
  {
   "cell_type": "markdown",
   "metadata": {},
   "source": [
    "- 3\n",
    "![](../Photo/76.png)"
   ]
  },
  {
   "cell_type": "code",
   "execution_count": 13,
   "metadata": {},
   "outputs": [
    {
     "ename": "TypeError",
     "evalue": "displaySortedNumbers() missing 3 required positional arguments: 'a', 'b', and 'c'",
     "output_type": "error",
     "traceback": [
      "\u001b[1;31m---------------------------------------------------------------------------\u001b[0m",
      "\u001b[1;31mTypeError\u001b[0m                                 Traceback (most recent call last)",
      "\u001b[1;32m<ipython-input-13-f5c77809a229>\u001b[0m in \u001b[0;36m<module>\u001b[1;34m()\u001b[0m\n\u001b[0;32m      4\u001b[0m     \u001b[0mq\u001b[0m\u001b[1;33m.\u001b[0m\u001b[0msort\u001b[0m\u001b[1;33m(\u001b[0m\u001b[1;33m)\u001b[0m\u001b[1;33m\u001b[0m\u001b[0m\n\u001b[0;32m      5\u001b[0m     \u001b[0mprint\u001b[0m \u001b[1;33m(\u001b[0m\u001b[0mq\u001b[0m\u001b[1;33m)\u001b[0m\u001b[1;33m\u001b[0m\u001b[0m\n\u001b[1;32m----> 6\u001b[1;33m \u001b[0mdisplaySortedNumbers\u001b[0m\u001b[1;33m(\u001b[0m\u001b[1;33m)\u001b[0m\u001b[1;33m\u001b[0m\u001b[0m\n\u001b[0m",
      "\u001b[1;31mTypeError\u001b[0m: displaySortedNumbers() missing 3 required positional arguments: 'a', 'b', and 'c'"
     ]
    }
   ],
   "source": [
    "def displaySortedNumbers(a,b,c):\n",
    "#     a,b,c = input(eval('请输入3个数：'))\n",
    "    q = [a,b,c]\n",
    "    q.sort()\n",
    "    print (q)\n",
    "displaySortedNumbers()"
   ]
  },
  {
   "cell_type": "markdown",
   "metadata": {},
   "source": [
    "- 4\n",
    "![](../Photo/77.png)"
   ]
  },
  {
   "cell_type": "code",
   "execution_count": null,
   "metadata": {},
   "outputs": [],
   "source": []
  },
  {
   "cell_type": "markdown",
   "metadata": {},
   "source": [
    "- 5\n",
    "![](../Photo/78.png)"
   ]
  },
  {
   "cell_type": "code",
   "execution_count": 6,
   "metadata": {},
   "outputs": [
    {
     "name": "stdout",
     "output_type": "stream",
     "text": [
      "1 2 3 4 5 6 7 8 9 \n",
      ": ; < = > ? @ A B C \n",
      "D E F G H I J K L M \n",
      "N O P Q R S T U V W \n",
      "X Y Z "
     ]
    }
   ],
   "source": [
    "def printChars(ch1,ch2,numberPerLine):\n",
    "    i = 1\n",
    "    for n in range(ord(ch1),ord(ch2)+1):\n",
    "        print(chr(n),end=' ')\n",
    "        i = i + 1\n",
    "        if i % int(numberPerLine) == 0:\n",
    "            print()\n",
    "printChars(ch1='1',ch2='Z',numberPerLine='10')"
   ]
  },
  {
   "cell_type": "markdown",
   "metadata": {},
   "source": [
    "- 6\n",
    "![](../Photo/79.png)"
   ]
  },
  {
   "cell_type": "code",
   "execution_count": 7,
   "metadata": {},
   "outputs": [
    {
     "name": "stdout",
     "output_type": "stream",
     "text": [
      "2010年有365天\n",
      "2011年有365天\n",
      "2012年有366天\n",
      "2013年有365天\n",
      "2014年有365天\n",
      "2015年有365天\n",
      "2016年有366天\n",
      "2017年有365天\n",
      "2018年有365天\n",
      "2019年有365天\n",
      "2020年有366天\n"
     ]
    }
   ],
   "source": [
    "def numberOfDaysInYear():    \n",
    "    for year in range(2010,2021):\n",
    "        if (year%4==0) and (year%100!=0) or (year%400==0):\n",
    "            print(str(year)+'年有366天')\n",
    "        else:\n",
    "            print(str(year)+'年有365天')\n",
    "numberOfDaysInYear()"
   ]
  },
  {
   "cell_type": "markdown",
   "metadata": {},
   "source": [
    "- 7\n",
    "![](../Photo/80.png)"
   ]
  },
  {
   "cell_type": "code",
   "execution_count": 8,
   "metadata": {},
   "outputs": [
    {
     "name": "stdout",
     "output_type": "stream",
     "text": [
      "1.0\n"
     ]
    }
   ],
   "source": [
    "import math\n",
    "def dsitance(x1,y1,x2,y2):\n",
    "    num = math.sqrt((x1-x2) ** 2 + (y1-y2) ** 2)\n",
    "    print(num)\n",
    "dsitance(1,2,2,2)"
   ]
  },
  {
   "cell_type": "markdown",
   "metadata": {},
   "source": [
    "- 8\n",
    "![](../Photo/81.png)"
   ]
  },
  {
   "cell_type": "code",
   "execution_count": 9,
   "metadata": {},
   "outputs": [
    {
     "name": "stdout",
     "output_type": "stream",
     "text": [
      "16\n",
      "16\n"
     ]
    }
   ],
   "source": [
    "def sushu():\n",
    "    for p in range(1,32):\n",
    "        for i in range(2,p-1):\n",
    "            if p % i == 0:\n",
    "                break\n",
    "            else:\n",
    "                num = 2**(p-1)\n",
    "                if num <= 31:\n",
    "                    print(num)\n",
    "sushu()"
   ]
  },
  {
   "cell_type": "code",
   "execution_count": 10,
   "metadata": {},
   "outputs": [
    {
     "name": "stdout",
     "output_type": "stream",
     "text": [
      "2 3\n",
      "3 7\n",
      "5 31\n"
     ]
    }
   ],
   "source": [
    "def sushu():\n",
    "    for p in range(2,50):\n",
    "        for i in range(2,p-1):\n",
    "            if p % i == 0:\n",
    "                break\n",
    "        else:\n",
    "            num = 2**p-1\n",
    "            if num <= 31:\n",
    "                print(p,num)\n",
    "sushu()"
   ]
  },
  {
   "cell_type": "markdown",
   "metadata": {},
   "source": [
    "- 9\n",
    "![](../Photo/82.png)\n",
    "![](../Photo/83.png)"
   ]
  },
  {
   "cell_type": "markdown",
   "metadata": {},
   "source": [
    "- 10\n",
    "![](../Photo/84.png)"
   ]
  },
  {
   "cell_type": "markdown",
   "metadata": {},
   "source": [
    "- 11 \n",
    "### 去网上寻找如何用Python代码发送邮件"
   ]
  }
 ],
 "metadata": {
  "kernelspec": {
   "display_name": "Python 3",
   "language": "python",
   "name": "python3"
  },
  "language_info": {
   "codemirror_mode": {
    "name": "ipython",
    "version": 3
   },
   "file_extension": ".py",
   "mimetype": "text/x-python",
   "name": "python",
   "nbconvert_exporter": "python",
   "pygments_lexer": "ipython3",
   "version": "3.6.4"
  }
 },
 "nbformat": 4,
 "nbformat_minor": 2
}
